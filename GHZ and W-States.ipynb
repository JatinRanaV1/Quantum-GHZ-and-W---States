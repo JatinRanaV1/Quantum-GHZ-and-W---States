{
 "cells": [
  {
   "cell_type": "markdown",
   "id": "ee1d758e",
   "metadata": {},
   "source": [
    "##### **Submitted by:**\n",
    "#### Hitika Saini (101816050) (3CS3)\n",
    "#### Tanya (101866008) (3CS3)\n",
    "#### Jatin (101866020) (3CS3)\n",
    "##### jjatin_bemba18@thapar.edu\n",
    "##### 9306744881 (Jatin)"
   ]
  },
  {
   "cell_type": "markdown",
   "id": "a6613bd4",
   "metadata": {},
   "source": [
    "### **Ques:**    Represent **GHZ state** for 2, 3, 4 Qubit circuits and **W-State** for 2, 3 Qubit circuits."
   ]
  },
  {
   "cell_type": "code",
   "execution_count": 1,
   "id": "d6e88b74",
   "metadata": {},
   "outputs": [],
   "source": [
    "import numpy as np\n",
    "from qiskit import *\n",
    "\n",
    "from qiskit.tools.jupyter import *\n",
    "from qiskit.visualization import *\n",
    "from ibm_quantum_widgets import *\n",
    "from math import pi\n",
    "\n",
    "provider = IBMQ.load_account()"
   ]
  },
  {
   "cell_type": "markdown",
   "id": "3c405cbf",
   "metadata": {},
   "source": [
    "## **GHZ State** generalization: \n",
    "### |GHZ> = **(|0..*(n-times)*..0> + |1..*(n-times)*..1>)/(2^0.5)** or **0.707 * (|0..*(n-times)*..0> + |1..*(n-times)*..1>)**"
   ]
  },
  {
   "cell_type": "markdown",
   "id": "c305a7e6",
   "metadata": {},
   "source": [
    "### 1. For GHZ state for 2 Qubits, i.e.  entangled **(|00> + |11>)/(2)^0.5**  or  **0.707 * (|00> + |11>)**"
   ]
  },
  {
   "cell_type": "markdown",
   "id": "6a789b06",
   "metadata": {},
   "source": [
    "#### Defining a circuit with 2 Qubits."
   ]
  },
  {
   "cell_type": "code",
   "execution_count": 2,
   "id": "15966c17",
   "metadata": {},
   "outputs": [],
   "source": [
    "qreg_q = QuantumRegister(2, 'q')\n",
    "creg_c = ClassicalRegister(2, 'c')\n",
    "circ1 = QuantumCircuit(qreg_q, creg_c)"
   ]
  },
  {
   "cell_type": "markdown",
   "id": "f927c635",
   "metadata": {},
   "source": [
    "#### For 2 Qubit GHZ State, we need to initially have both the qubits in |0> state."
   ]
  },
  {
   "cell_type": "code",
   "execution_count": 3,
   "id": "fc396ea3",
   "metadata": {},
   "outputs": [
    {
     "data": {
      "text/plain": [
       "<qiskit.circuit.instructionset.InstructionSet at 0x7f7a3854e610>"
      ]
     },
     "execution_count": 3,
     "metadata": {},
     "output_type": "execute_result"
    }
   ],
   "source": [
    "circ1.reset(qreg_q[0])\n",
    "circ1.reset(qreg_q[1])"
   ]
  },
  {
   "cell_type": "markdown",
   "id": "c8d48693",
   "metadata": {},
   "source": [
    "#### Now, we need to apply Hadamard Gate on 1st Qubit in state |0>, which will transform into state (|0> + |1>)/(2)^0.5 or  0.707*(|0> + |1>)"
   ]
  },
  {
   "cell_type": "code",
   "execution_count": 4,
   "id": "d5cc342b",
   "metadata": {},
   "outputs": [
    {
     "data": {
      "text/plain": [
       "<qiskit.circuit.instructionset.InstructionSet at 0x7f7a38553a30>"
      ]
     },
     "execution_count": 4,
     "metadata": {},
     "output_type": "execute_result"
    }
   ],
   "source": [
    "circ1.h(qreg_q[0])"
   ]
  },
  {
   "cell_type": "markdown",
   "id": "43b514d5",
   "metadata": {},
   "source": [
    "#### Now, we apply C-Not Gate on 1st Qubit, using 2nd Qubit as Control Bit."
   ]
  },
  {
   "cell_type": "code",
   "execution_count": 5,
   "id": "8fde7dc5",
   "metadata": {},
   "outputs": [
    {
     "data": {
      "text/plain": [
       "<qiskit.circuit.instructionset.InstructionSet at 0x7f799d72e580>"
      ]
     },
     "execution_count": 5,
     "metadata": {},
     "output_type": "execute_result"
    }
   ],
   "source": [
    "circ1.cx(qreg_q[0], qreg_q[1])"
   ]
  },
  {
   "cell_type": "markdown",
   "id": "f0c307f6",
   "metadata": {},
   "source": [
    "#### Our circuit will look like this below."
   ]
  },
  {
   "cell_type": "code",
   "execution_count": 6,
   "id": "2da1a96b",
   "metadata": {},
   "outputs": [
    {
     "data": {
      "image/png": "[encoded data removed]",
      "text/plain": [
       "<Figure size 267.052x204.68 with 1 Axes>"
      ]
     },
     "execution_count": 6,
     "metadata": {},
     "output_type": "execute_result"
    }
   ],
   "source": [
    "circ1.draw()"
   ]
  },
  {
   "cell_type": "markdown",
   "id": "df25ad33",
   "metadata": {},
   "source": [
    "#### Now, we check the state of the Qubits."
   ]
  },
  {
   "cell_type": "code",
   "execution_count": 7,
   "id": "b5c3e4b2",
   "metadata": {},
   "outputs": [
    {
     "data": {
      "text/latex": [
       "$$\n",
       "\n",
       "\\begin{bmatrix}\n",
       "\\tfrac{1}{\\sqrt{2}} & 0 & 0 & \\tfrac{1}{\\sqrt{2}}  \\\\\n",
       " \\end{bmatrix}\n",
       "$$"
      ],
      "text/plain": [
       "<IPython.core.display.Latex object>"
      ]
     },
     "execution_count": 7,
     "metadata": {},
     "output_type": "execute_result"
    }
   ],
   "source": [
    "from qiskit.quantum_info import Statevector\n",
    "\n",
    "state = Statevector.from_int(0, 2**2)\n",
    "state = state.evolve(circ1)\n",
    "\n",
    "state.draw('latex')"
   ]
  },
  {
   "cell_type": "markdown",
   "id": "759a7068",
   "metadata": {},
   "source": [
    "#### Clearly, output shows both |00> and |11> states with amplitude 1/2^0.5"
   ]
  },
  {
   "cell_type": "markdown",
   "id": "684c65f4",
   "metadata": {},
   "source": [
    "#### Now, measuring the Qubits."
   ]
  },
  {
   "cell_type": "code",
   "execution_count": 8,
   "id": "85b75225",
   "metadata": {},
   "outputs": [
    {
     "data": {
      "text/plain": [
       "<qiskit.circuit.instructionset.InstructionSet at 0x7f799d411f40>"
      ]
     },
     "execution_count": 8,
     "metadata": {},
     "output_type": "execute_result"
    }
   ],
   "source": [
    "circ1.measure(qreg_q[0], creg_c[0])\n",
    "circ1.measure(qreg_q[1], creg_c[1])"
   ]
  },
  {
   "cell_type": "code",
   "execution_count": 9,
   "id": "91a4855a",
   "metadata": {},
   "outputs": [
    {
     "data": {
      "image/png": "[encoded data removed]",
      "text/plain": [
       "<Figure size 387.452x204.68 with 1 Axes>"
      ]
     },
     "execution_count": 9,
     "metadata": {},
     "output_type": "execute_result"
    }
   ],
   "source": [
    "circ1.draw()"
   ]
  },
  {
   "cell_type": "markdown",
   "id": "39d77ed6",
   "metadata": {},
   "source": [
    "#### Now, we run simulations of the circuit with 1024 iterations."
   ]
  },
  {
   "cell_type": "code",
   "execution_count": 10,
   "id": "8a95f836",
   "metadata": {},
   "outputs": [
    {
     "data": {
      "text/plain": [
       "{'11': 504, '00': 520}"
      ]
     },
     "execution_count": 10,
     "metadata": {},
     "output_type": "execute_result"
    }
   ],
   "source": [
    "backend = BasicAer.get_backend('qasm_simulator')\n",
    "job = execute(circ1, backend, shots=1024)\n",
    "job.result().get_counts(circ1)"
   ]
  },
  {
   "cell_type": "markdown",
   "id": "ffb003c1",
   "metadata": {},
   "source": [
    "#### After running on **Actual IBM computers**, we get output:\n",
    "\n",
    "#### '00' : 422\n",
    "#### '01' : 32\n",
    "#### '10' : 137\n",
    "#### '11' : 433\n",
    "\n",
    "#### We can see that we are getting outputs as |01> and |10> as well, which shouldn't happen in an ideal circuit. \n",
    "#### There are 169 outputs other than |00> or |11>, which gives approx error of 16.50%."
   ]
  },
  {
   "cell_type": "markdown",
   "id": "c71bc413",
   "metadata": {},
   "source": [
    "### 2. For GHZ state for 3 Qubits, i.e. entangled **(|000> + |111>)/(2)^0.5**  or  **0.707 * (|000> + |111>)**"
   ]
  },
  {
   "cell_type": "markdown",
   "id": "bc0fc352",
   "metadata": {},
   "source": [
    "#### Defining a circuit with 3 Qubits."
   ]
  },
  {
   "cell_type": "code",
   "execution_count": 11,
   "id": "11cb802d",
   "metadata": {},
   "outputs": [],
   "source": [
    "qreg_q = qiskit.QuantumRegister(3, 'q')\n",
    "creg_c = qiskit.ClassicalRegister(3, 'c')\n",
    "circ2 = QuantumCircuit(qreg_q, creg_c)"
   ]
  },
  {
   "cell_type": "markdown",
   "id": "07b79f47",
   "metadata": {},
   "source": [
    "#### Setting all the Qubits to |0> state."
   ]
  },
  {
   "cell_type": "code",
   "execution_count": 12,
   "id": "8c86eef7",
   "metadata": {},
   "outputs": [
    {
     "data": {
      "text/plain": [
       "<qiskit.circuit.instructionset.InstructionSet at 0x7f799bc6b4c0>"
      ]
     },
     "execution_count": 12,
     "metadata": {},
     "output_type": "execute_result"
    }
   ],
   "source": [
    "circ2.reset(qreg_q[0])\n",
    "circ2.reset(qreg_q[1])\n",
    "circ2.reset(qreg_q[2])"
   ]
  },
  {
   "cell_type": "markdown",
   "id": "fdcf1b4e",
   "metadata": {},
   "source": [
    "#### Applying Hadamard Gate to 1st Qubit."
   ]
  },
  {
   "cell_type": "code",
   "execution_count": 13,
   "id": "9ddb849f",
   "metadata": {},
   "outputs": [
    {
     "data": {
      "text/plain": [
       "<qiskit.circuit.instructionset.InstructionSet at 0x7f799bc6b250>"
      ]
     },
     "execution_count": 13,
     "metadata": {},
     "output_type": "execute_result"
    }
   ],
   "source": [
    "circ2.h(qreg_q[0])"
   ]
  },
  {
   "cell_type": "markdown",
   "id": "a6d85138",
   "metadata": {},
   "source": [
    "#### Now, we apply C-Not gate on 1st Qubit, with 2nd Qubit as control qubit."
   ]
  },
  {
   "cell_type": "code",
   "execution_count": 14,
   "id": "ada21881",
   "metadata": {},
   "outputs": [
    {
     "data": {
      "text/plain": [
       "<qiskit.circuit.instructionset.InstructionSet at 0x7f799d4945b0>"
      ]
     },
     "execution_count": 14,
     "metadata": {},
     "output_type": "execute_result"
    }
   ],
   "source": [
    "circ2.cx(qreg_q[0], qreg_q[1])"
   ]
  },
  {
   "cell_type": "markdown",
   "id": "3e885b2b",
   "metadata": {},
   "source": [
    "#### Current State of Qubits,"
   ]
  },
  {
   "cell_type": "code",
   "execution_count": 15,
   "id": "3bd7031d",
   "metadata": {},
   "outputs": [
    {
     "data": {
      "text/latex": [
       "$$\n",
       "\n",
       "\\begin{bmatrix}\n",
       "\\tfrac{1}{\\sqrt{2}} & 0 & 0 & \\tfrac{1}{\\sqrt{2}} & 0 & 0 & 0 & 0  \\\\\n",
       " \\end{bmatrix}\n",
       "$$"
      ],
      "text/plain": [
       "<IPython.core.display.Latex object>"
      ]
     },
     "execution_count": 15,
     "metadata": {},
     "output_type": "execute_result"
    }
   ],
   "source": [
    "state = Statevector.from_int(0, 2**3)\n",
    "state = state.evolve(circ2)\n",
    "\n",
    "state.draw('latex')"
   ]
  },
  {
   "cell_type": "markdown",
   "id": "db35cbe9",
   "metadata": {},
   "source": [
    "#### Again, we apply C-Not gate on 1st Qubit, now with 3rd Qubit as control qubit."
   ]
  },
  {
   "cell_type": "code",
   "execution_count": 16,
   "id": "2d8c5d14",
   "metadata": {},
   "outputs": [
    {
     "data": {
      "text/plain": [
       "<qiskit.circuit.instructionset.InstructionSet at 0x7f799bc6bc70>"
      ]
     },
     "execution_count": 16,
     "metadata": {},
     "output_type": "execute_result"
    }
   ],
   "source": [
    "circ2.cx(qreg_q[0], qreg_q[2])"
   ]
  },
  {
   "cell_type": "markdown",
   "id": "d9957b9a",
   "metadata": {},
   "source": [
    "#### Circuit will look this below."
   ]
  },
  {
   "cell_type": "code",
   "execution_count": 17,
   "id": "b2a1f95a",
   "metadata": {},
   "outputs": [
    {
     "data": {
      "image/png": "[encoded data removed]",
      "text/plain": [
       "<Figure size 327.397x264.88 with 1 Axes>"
      ]
     },
     "execution_count": 17,
     "metadata": {},
     "output_type": "execute_result"
    }
   ],
   "source": [
    "circ2.draw()"
   ]
  },
  {
   "cell_type": "markdown",
   "id": "27b64a27",
   "metadata": {},
   "source": [
    "#### Now, we check the state of the Qubits."
   ]
  },
  {
   "cell_type": "code",
   "execution_count": 18,
   "id": "d2c4b367",
   "metadata": {},
   "outputs": [
    {
     "data": {
      "text/latex": [
       "$$\n",
       "\n",
       "\\begin{bmatrix}\n",
       "\\tfrac{1}{\\sqrt{2}} & 0 & 0 & 0 & 0 & 0 & 0 & \\tfrac{1}{\\sqrt{2}}  \\\\\n",
       " \\end{bmatrix}\n",
       "$$"
      ],
      "text/plain": [
       "<IPython.core.display.Latex object>"
      ]
     },
     "execution_count": 18,
     "metadata": {},
     "output_type": "execute_result"
    }
   ],
   "source": [
    "state = Statevector.from_int(0, 2**3)\n",
    "state = state.evolve(circ2)\n",
    "\n",
    "state.draw('latex')"
   ]
  },
  {
   "cell_type": "markdown",
   "id": "f366f28b",
   "metadata": {},
   "source": [
    "#### Clearly, output shows both |000> and |111> states with amplitude 1/2^0.5"
   ]
  },
  {
   "cell_type": "markdown",
   "id": "525beb71",
   "metadata": {},
   "source": [
    "#### Now, measuring the circuit."
   ]
  },
  {
   "cell_type": "code",
   "execution_count": 19,
   "id": "dd40a1ea",
   "metadata": {},
   "outputs": [
    {
     "data": {
      "text/plain": [
       "<qiskit.circuit.instructionset.InstructionSet at 0x7f799bbd8a00>"
      ]
     },
     "execution_count": 19,
     "metadata": {},
     "output_type": "execute_result"
    }
   ],
   "source": [
    "circ2.measure(qreg_q[0], creg_c[0])\n",
    "circ2.measure(qreg_q[1], creg_c[1])\n",
    "circ2.measure(qreg_q[2], creg_c[2])"
   ]
  },
  {
   "cell_type": "code",
   "execution_count": 20,
   "id": "a2070507",
   "metadata": {},
   "outputs": [
    {
     "data": {
      "image/png": "[encoded data removed]",
      "text/plain": [
       "<Figure size 507.997x264.88 with 1 Axes>"
      ]
     },
     "execution_count": 20,
     "metadata": {},
     "output_type": "execute_result"
    }
   ],
   "source": [
    "circ2.draw()"
   ]
  },
  {
   "cell_type": "markdown",
   "id": "eeced9d9",
   "metadata": {},
   "source": [
    "#### Now, we run simulations of the circuit with 1024 iterations."
   ]
  },
  {
   "cell_type": "code",
   "execution_count": 21,
   "id": "10080137",
   "metadata": {},
   "outputs": [
    {
     "data": {
      "text/plain": [
       "{'000': 479, '111': 545}"
      ]
     },
     "execution_count": 21,
     "metadata": {},
     "output_type": "execute_result"
    }
   ],
   "source": [
    "job = execute(circ2, backend, shots=1024)\n",
    "job.result().get_counts(circ2)"
   ]
  },
  {
   "cell_type": "markdown",
   "id": "cfe3f1f4",
   "metadata": {},
   "source": [
    "#### After running on **Actual IBM computers**, we get output:\n",
    "\n",
    "#### '000' : 454\n",
    "#### '001' : 17\n",
    "#### '010' : 23\n",
    "#### '011' : 36\n",
    "#### '100' : 12\n",
    "#### '101' : 36\n",
    "#### '110' : 15\n",
    "#### '111' : 431\n",
    "\n",
    "#### There are 139 outputs other than |000> or |111>, which gives approx error of 13.57%."
   ]
  },
  {
   "cell_type": "markdown",
   "id": "e8b18a5a",
   "metadata": {},
   "source": [
    "### 3. For GHZ state for 4 Qubits, i.e. entangled **(|0000> + |1111>)/(2)^0.5**  or  **0.707 * (|0000> + |1111>)**"
   ]
  },
  {
   "cell_type": "markdown",
   "id": "389fa241",
   "metadata": {},
   "source": [
    "#### Defining a circuit with 4 Qubits."
   ]
  },
  {
   "cell_type": "code",
   "execution_count": 22,
   "id": "8df93068",
   "metadata": {},
   "outputs": [],
   "source": [
    "qreg_q = qiskit.QuantumRegister(4, 'q')\n",
    "creg_c = qiskit.ClassicalRegister(4, 'c')\n",
    "circ3 = QuantumCircuit(qreg_q, creg_c)"
   ]
  },
  {
   "cell_type": "markdown",
   "id": "ea405a08",
   "metadata": {},
   "source": [
    "#### Setting all the Qubits to |0> state."
   ]
  },
  {
   "cell_type": "code",
   "execution_count": 23,
   "id": "100dc195",
   "metadata": {},
   "outputs": [
    {
     "data": {
      "text/plain": [
       "<qiskit.circuit.instructionset.InstructionSet at 0x7f799ba9e9d0>"
      ]
     },
     "execution_count": 23,
     "metadata": {},
     "output_type": "execute_result"
    }
   ],
   "source": [
    "circ3.reset(qreg_q[0])\n",
    "circ3.reset(qreg_q[1])\n",
    "circ3.reset(qreg_q[2])\n",
    "circ3.reset(qreg_q[3])"
   ]
  },
  {
   "cell_type": "markdown",
   "id": "cbffefa2",
   "metadata": {},
   "source": [
    "#### Applying Hadamard Gate to 1st Qubit."
   ]
  },
  {
   "cell_type": "code",
   "execution_count": 24,
   "id": "baa02d96",
   "metadata": {},
   "outputs": [
    {
     "data": {
      "text/plain": [
       "<qiskit.circuit.instructionset.InstructionSet at 0x7f799e160f10>"
      ]
     },
     "execution_count": 24,
     "metadata": {},
     "output_type": "execute_result"
    }
   ],
   "source": [
    "circ3.h(qreg_q[0])"
   ]
  },
  {
   "cell_type": "code",
   "execution_count": 25,
   "id": "7586fffe",
   "metadata": {},
   "outputs": [
    {
     "data": {
      "text/latex": [
       "$$\n",
       "\n",
       "\\begin{bmatrix}\n",
       "\\tfrac{1}{\\sqrt{2}} & \\tfrac{1}{\\sqrt{2}} & 0 & 0 & \\cdots & 0 & 0 & 0  \\\\\n",
       " \\end{bmatrix}\n",
       "$$"
      ],
      "text/plain": [
       "<IPython.core.display.Latex object>"
      ]
     },
     "execution_count": 25,
     "metadata": {},
     "output_type": "execute_result"
    }
   ],
   "source": [
    "state = Statevector.from_int(0, 2**4)\n",
    "state = state.evolve(circ3)\n",
    "\n",
    "state.draw('latex')"
   ]
  },
  {
   "cell_type": "markdown",
   "id": "140111eb",
   "metadata": {},
   "source": [
    "#### Now, we apply C-Not gate on 1st Qubit, now with 2nd Qubit as control qubit."
   ]
  },
  {
   "cell_type": "code",
   "execution_count": 26,
   "id": "3ea8b975",
   "metadata": {},
   "outputs": [
    {
     "data": {
      "text/plain": [
       "<qiskit.circuit.instructionset.InstructionSet at 0x7f799bb794c0>"
      ]
     },
     "execution_count": 26,
     "metadata": {},
     "output_type": "execute_result"
    }
   ],
   "source": [
    "circ3.cx(qreg_q[0], qreg_q[1])"
   ]
  },
  {
   "cell_type": "code",
   "execution_count": 27,
   "id": "5f1431c2",
   "metadata": {},
   "outputs": [
    {
     "data": {
      "text/latex": [
       "$$\n",
       "\n",
       "\\begin{bmatrix}\n",
       "\\tfrac{1}{\\sqrt{2}} & 0 & 0 & \\tfrac{1}{\\sqrt{2}} & \\cdots & 0 & 0 & 0  \\\\\n",
       " \\end{bmatrix}\n",
       "$$"
      ],
      "text/plain": [
       "<IPython.core.display.Latex object>"
      ]
     },
     "execution_count": 27,
     "metadata": {},
     "output_type": "execute_result"
    }
   ],
   "source": [
    "state = Statevector.from_int(0, 2**4)\n",
    "state = state.evolve(circ3)\n",
    "\n",
    "state.draw('latex')"
   ]
  },
  {
   "cell_type": "markdown",
   "id": "11a3c95e",
   "metadata": {},
   "source": [
    "#### Again, we apply C-Not gate on 1st Qubit, now with 3rd Qubit as control qubit."
   ]
  },
  {
   "cell_type": "code",
   "execution_count": 28,
   "id": "88e6fb96",
   "metadata": {},
   "outputs": [
    {
     "data": {
      "text/plain": [
       "<qiskit.circuit.instructionset.InstructionSet at 0x7f799bb17c10>"
      ]
     },
     "execution_count": 28,
     "metadata": {},
     "output_type": "execute_result"
    }
   ],
   "source": [
    "circ3.cx(qreg_q[0], qreg_q[2])"
   ]
  },
  {
   "cell_type": "code",
   "execution_count": 29,
   "id": "bb16cdb6",
   "metadata": {},
   "outputs": [
    {
     "data": {
      "text/latex": [
       "$$\n",
       "\n",
       "\\begin{bmatrix}\n",
       "\\tfrac{1}{\\sqrt{2}} & 0 & 0 & 0 & \\cdots & 0 & 0 & 0  \\\\\n",
       " \\end{bmatrix}\n",
       "$$"
      ],
      "text/plain": [
       "<IPython.core.display.Latex object>"
      ]
     },
     "execution_count": 29,
     "metadata": {},
     "output_type": "execute_result"
    }
   ],
   "source": [
    "state = Statevector.from_int(0, 2**4)\n",
    "state = state.evolve(circ3)\n",
    "\n",
    "state.draw('latex')"
   ]
  },
  {
   "cell_type": "markdown",
   "id": "7786ba3a",
   "metadata": {},
   "source": [
    "#### Again, we apply C-Not gate on 1st Qubit, now wmith 4th Qubit as control qubit."
   ]
  },
  {
   "cell_type": "code",
   "execution_count": 30,
   "id": "96a454fb",
   "metadata": {},
   "outputs": [
    {
     "data": {
      "text/plain": [
       "<qiskit.circuit.instructionset.InstructionSet at 0x7f799ba8fd90>"
      ]
     },
     "execution_count": 30,
     "metadata": {},
     "output_type": "execute_result"
    }
   ],
   "source": [
    "circ3.cx(qreg_q[0], qreg_q[3])"
   ]
  },
  {
   "cell_type": "markdown",
   "id": "21e6cd5c",
   "metadata": {},
   "source": [
    "#### The circuit will look like below."
   ]
  },
  {
   "cell_type": "code",
   "execution_count": 31,
   "id": "0ea6b3c5",
   "metadata": {},
   "outputs": [
    {
     "data": {
      "image/png": "[encoded data removed]",
      "text/plain": [
       "<Figure size 387.597x325.08 with 1 Axes>"
      ]
     },
     "execution_count": 31,
     "metadata": {},
     "output_type": "execute_result"
    }
   ],
   "source": [
    "circ3.draw()"
   ]
  },
  {
   "cell_type": "markdown",
   "id": "9b402f1c",
   "metadata": {},
   "source": [
    "#### Now, we check the state of the Qubits."
   ]
  },
  {
   "cell_type": "code",
   "execution_count": 32,
   "id": "43e4311d",
   "metadata": {},
   "outputs": [
    {
     "data": {
      "text/latex": [
       "$$\n",
       "\n",
       "\\begin{bmatrix}\n",
       "\\tfrac{1}{\\sqrt{2}} & 0 & 0 & 0 & \\cdots & 0 & 0 & \\tfrac{1}{\\sqrt{2}}  \\\\\n",
       " \\end{bmatrix}\n",
       "$$"
      ],
      "text/plain": [
       "<IPython.core.display.Latex object>"
      ]
     },
     "execution_count": 32,
     "metadata": {},
     "output_type": "execute_result"
    }
   ],
   "source": [
    "state = Statevector.from_int(0, 2**4)\n",
    "state = state.evolve(circ3)\n",
    "\n",
    "state.draw('latex')"
   ]
  },
  {
   "cell_type": "markdown",
   "id": "fcc61f86",
   "metadata": {},
   "source": [
    "#### We can clearly see the amplitudes of |0000> and |1111> is 0.707."
   ]
  },
  {
   "cell_type": "markdown",
   "id": "e04040bf",
   "metadata": {},
   "source": [
    "#### Measuring the Qubits."
   ]
  },
  {
   "cell_type": "code",
   "execution_count": 33,
   "id": "a77d88be",
   "metadata": {},
   "outputs": [
    {
     "data": {
      "text/plain": [
       "<qiskit.circuit.instructionset.InstructionSet at 0x7f799b9bce20>"
      ]
     },
     "execution_count": 33,
     "metadata": {},
     "output_type": "execute_result"
    }
   ],
   "source": [
    "circ3.measure(qreg_q[0], creg_c[0])\n",
    "circ3.measure(qreg_q[1], creg_c[1])\n",
    "circ3.measure(qreg_q[2], creg_c[2])\n",
    "circ3.measure(qreg_q[3], creg_c[3])"
   ]
  },
  {
   "cell_type": "code",
   "execution_count": 34,
   "id": "ade42aaa",
   "metadata": {},
   "outputs": [
    {
     "data": {
      "image/png": "[encoded data removed]",
      "text/plain": [
       "<Figure size 628.397x325.08 with 1 Axes>"
      ]
     },
     "execution_count": 34,
     "metadata": {},
     "output_type": "execute_result"
    }
   ],
   "source": [
    "circ3.draw()"
   ]
  },
  {
   "cell_type": "markdown",
   "id": "90e58508",
   "metadata": {},
   "source": [
    "#### Now, we run simulations of the circuit with 1024 iterations."
   ]
  },
  {
   "cell_type": "code",
   "execution_count": 35,
   "id": "af28bbac",
   "metadata": {},
   "outputs": [
    {
     "data": {
      "text/plain": [
       "{'1111': 516, '0000': 508}"
      ]
     },
     "execution_count": 35,
     "metadata": {},
     "output_type": "execute_result"
    }
   ],
   "source": [
    "job = execute(circ3, backend, shots=1024)\n",
    "job.result().get_counts(circ3)"
   ]
  },
  {
   "cell_type": "markdown",
   "id": "24e46949",
   "metadata": {},
   "source": [
    "#### After running on **Actual IBM computers**, we get output:\n",
    "\n",
    "#### '0000' : 347\n",
    "#### '0001' : 14\n",
    "#### '0010' : 23\n",
    "#### '0011' : 12\n",
    "#### '0100' : 16\n",
    "#### '0101' : 22\n",
    "#### '0110' : 6\n",
    "#### '0111' : 35\n",
    "#### '1000' : 14\n",
    "#### '1001' : 20\n",
    "#### '1010' : 12\n",
    "#### '1011' : 38\n",
    "#### '1100' : 4\n",
    "#### '1101' : 62\n",
    "#### '1110' : 13\n",
    "#### '1111' : 386\n",
    "\n",
    "#### There are 291 outputs other than |0000> or |1111>, which gives approx error of 28.42%."
   ]
  },
  {
   "cell_type": "markdown",
   "id": "cdf220f6",
   "metadata": {},
   "source": [
    "## **W-State** generalization:\n",
    "### |W> = **(|100..0> + |010..0> + |00..01>)/(n^0.5)**"
   ]
  },
  {
   "cell_type": "markdown",
   "id": "2a7a0d0d",
   "metadata": {},
   "source": [
    "### 1. For W-state for 2 Qubits, i.e. entangled **(|01> + |10>)/(2)^0.5**  or  **0.707 * (|01> + |10>)**"
   ]
  },
  {
   "cell_type": "markdown",
   "id": "e55d4a01",
   "metadata": {},
   "source": [
    "#### Defining a circuit with 2 Qubits."
   ]
  },
  {
   "cell_type": "code",
   "execution_count": 36,
   "id": "cd05bc35",
   "metadata": {},
   "outputs": [],
   "source": [
    "qreg_q = qiskit.QuantumRegister(2, 'q')\n",
    "creg_c = qiskit.ClassicalRegister(2, 'c')\n",
    "circ4 = QuantumCircuit(qreg_q, creg_c)"
   ]
  },
  {
   "cell_type": "markdown",
   "id": "88494616",
   "metadata": {},
   "source": [
    "#### For W-State of 2 Qubits, we initially need 1st Qubit in |0> state and 2nd Qubit in |1> state."
   ]
  },
  {
   "cell_type": "markdown",
   "id": "caf63e47",
   "metadata": {},
   "source": [
    "#### Seeting 1st Qubit in |0> state."
   ]
  },
  {
   "cell_type": "code",
   "execution_count": 37,
   "id": "ebf0e45d",
   "metadata": {},
   "outputs": [
    {
     "data": {
      "text/plain": [
       "<qiskit.circuit.instructionset.InstructionSet at 0x7f799b870370>"
      ]
     },
     "execution_count": 37,
     "metadata": {},
     "output_type": "execute_result"
    }
   ],
   "source": [
    "circ4.reset(qreg_q[0])"
   ]
  },
  {
   "cell_type": "markdown",
   "id": "215405e0",
   "metadata": {},
   "source": [
    "#### As default state of Qubit is |0>, we will apply X-Gate (or Not gate) on 2nd Qubit to make it's state |1>."
   ]
  },
  {
   "cell_type": "code",
   "execution_count": 38,
   "id": "d3e62bb4",
   "metadata": {},
   "outputs": [
    {
     "data": {
      "text/plain": [
       "<qiskit.circuit.instructionset.InstructionSet at 0x7f799b883df0>"
      ]
     },
     "execution_count": 38,
     "metadata": {},
     "output_type": "execute_result"
    }
   ],
   "source": [
    "circ4.x(qreg_q[1])"
   ]
  },
  {
   "cell_type": "markdown",
   "id": "6a761fc4",
   "metadata": {},
   "source": [
    "#### Now, applying Hadamard Gate to 1st Qubit."
   ]
  },
  {
   "cell_type": "code",
   "execution_count": 39,
   "id": "41ef77f7",
   "metadata": {},
   "outputs": [
    {
     "data": {
      "text/plain": [
       "<qiskit.circuit.instructionset.InstructionSet at 0x7f799b861f40>"
      ]
     },
     "execution_count": 39,
     "metadata": {},
     "output_type": "execute_result"
    }
   ],
   "source": [
    "circ4.h(qreg_q[0])"
   ]
  },
  {
   "cell_type": "code",
   "execution_count": 40,
   "id": "27169920",
   "metadata": {},
   "outputs": [
    {
     "data": {
      "text/latex": [
       "$$\n",
       "\n",
       "\\begin{bmatrix}\n",
       "0 & 0 & \\tfrac{1}{\\sqrt{2}} & \\tfrac{1}{\\sqrt{2}} & \\cdots & 0 & 0 & 0  \\\\\n",
       " \\end{bmatrix}\n",
       "$$"
      ],
      "text/plain": [
       "<IPython.core.display.Latex object>"
      ]
     },
     "execution_count": 40,
     "metadata": {},
     "output_type": "execute_result"
    }
   ],
   "source": [
    "state = Statevector.from_int(0, 2**4)\n",
    "state = state.evolve(circ4)\n",
    "\n",
    "state.draw('latex')"
   ]
  },
  {
   "cell_type": "markdown",
   "id": "ed2fcba6",
   "metadata": {},
   "source": [
    "#### And applying C-Not Gate to 1st Qubit, with control qubit as 2nd Qubit."
   ]
  },
  {
   "cell_type": "code",
   "execution_count": 41,
   "id": "6116cbde",
   "metadata": {},
   "outputs": [
    {
     "data": {
      "text/plain": [
       "<qiskit.circuit.instructionset.InstructionSet at 0x7f799b90de80>"
      ]
     },
     "execution_count": 41,
     "metadata": {},
     "output_type": "execute_result"
    }
   ],
   "source": [
    "circ4.cx(qreg_q[0], qreg_q[1])"
   ]
  },
  {
   "cell_type": "markdown",
   "id": "4d9af078",
   "metadata": {},
   "source": [
    "#### The circuit will look like below."
   ]
  },
  {
   "cell_type": "code",
   "execution_count": 42,
   "id": "5969d80e",
   "metadata": {},
   "outputs": [
    {
     "data": {
      "image/png": "[encoded data removed]",
      "text/plain": [
       "<Figure size 267.052x204.68 with 1 Axes>"
      ]
     },
     "execution_count": 42,
     "metadata": {},
     "output_type": "execute_result"
    }
   ],
   "source": [
    "circ4.draw()"
   ]
  },
  {
   "cell_type": "markdown",
   "id": "1ae30938",
   "metadata": {},
   "source": [
    "#### Now, we check the state of the Qubits."
   ]
  },
  {
   "cell_type": "code",
   "execution_count": 43,
   "id": "758bb583",
   "metadata": {},
   "outputs": [
    {
     "data": {
      "text/latex": [
       "$$\n",
       "\n",
       "\\begin{bmatrix}\n",
       "0 & \\tfrac{1}{\\sqrt{2}} & \\tfrac{1}{\\sqrt{2}} & 0  \\\\\n",
       " \\end{bmatrix}\n",
       "$$"
      ],
      "text/plain": [
       "<IPython.core.display.Latex object>"
      ]
     },
     "execution_count": 43,
     "metadata": {},
     "output_type": "execute_result"
    }
   ],
   "source": [
    "state = Statevector.from_int(0, 2**2)\n",
    "state = state.evolve(circ4)\n",
    "\n",
    "state.draw('latex')"
   ]
  },
  {
   "cell_type": "markdown",
   "id": "c95d6ab7",
   "metadata": {},
   "source": [
    "#### We can clearly see the amplitudes of |01> and |10> is 0.707."
   ]
  },
  {
   "cell_type": "markdown",
   "id": "4f8277dc",
   "metadata": {},
   "source": [
    "#### Now, measuring the Qubits."
   ]
  },
  {
   "cell_type": "code",
   "execution_count": 44,
   "id": "befd46a5",
   "metadata": {},
   "outputs": [
    {
     "data": {
      "text/plain": [
       "<qiskit.circuit.instructionset.InstructionSet at 0x7f799b870fa0>"
      ]
     },
     "execution_count": 44,
     "metadata": {},
     "output_type": "execute_result"
    }
   ],
   "source": [
    "circ4.measure(qreg_q[0], creg_c[0])\n",
    "circ4.measure(qreg_q[1], creg_c[1])"
   ]
  },
  {
   "cell_type": "code",
   "execution_count": 45,
   "id": "e955f638",
   "metadata": {},
   "outputs": [
    {
     "data": {
      "image/png": "[encoded data removed]",
      "text/plain": [
       "<Figure size 387.452x204.68 with 1 Axes>"
      ]
     },
     "execution_count": 45,
     "metadata": {},
     "output_type": "execute_result"
    }
   ],
   "source": [
    "circ4.draw()"
   ]
  },
  {
   "cell_type": "markdown",
   "id": "d29fa838",
   "metadata": {},
   "source": [
    "#### Now, we run simulations of the circuit with 1024 iterations."
   ]
  },
  {
   "cell_type": "code",
   "execution_count": 46,
   "id": "54cfe3f5",
   "metadata": {},
   "outputs": [
    {
     "data": {
      "text/plain": [
       "{'01': 522, '10': 502}"
      ]
     },
     "execution_count": 46,
     "metadata": {},
     "output_type": "execute_result"
    }
   ],
   "source": [
    "job = execute(circ4, backend, shots=1024)\n",
    "job.result().get_counts(circ4)"
   ]
  },
  {
   "cell_type": "markdown",
   "id": "7d65b438",
   "metadata": {},
   "source": [
    "#### After running on **Actual IBM computers**, we get output:\n",
    "\n",
    "#### '00' : 25\n",
    "#### '01' : 490\n",
    "#### '10' : 479\n",
    "#### '11' : 30\n",
    "\n",
    "#### We can see that we are getting outputs as |00> and |11> as well, which shouldn't happen in an ideal circuit. \n",
    "#### There are 55 outputs other than |01> or |10>, which gives approx error of 5.37%."
   ]
  },
  {
   "cell_type": "markdown",
   "id": "ecd32ba4",
   "metadata": {},
   "source": [
    "### 2. For W-state for 3 Qubits, i.e. entangled **(  |001> + |010> + |100>)/(3^0.5)**  or  **0.577*( |001> + |010> + |100>)**"
   ]
  },
  {
   "cell_type": "markdown",
   "id": "45c98aa6",
   "metadata": {},
   "source": [
    "#### Defining a circuit with 3 Qubits."
   ]
  },
  {
   "cell_type": "code",
   "execution_count": 47,
   "id": "3ab030cc",
   "metadata": {},
   "outputs": [],
   "source": [
    "qreg_q = qiskit.QuantumRegister(3, 'q')\n",
    "creg_c = qiskit.ClassicalRegister(3, 'c')\n",
    "circ5 = QuantumCircuit(qreg_q, creg_c)"
   ]
  },
  {
   "cell_type": "markdown",
   "id": "1d5ebb81",
   "metadata": {},
   "source": [
    "#### Setting all the Qubits to |0> state."
   ]
  },
  {
   "cell_type": "code",
   "execution_count": 48,
   "id": "07ceaec9",
   "metadata": {},
   "outputs": [
    {
     "data": {
      "text/plain": [
       "<qiskit.circuit.instructionset.InstructionSet at 0x7f799b726610>"
      ]
     },
     "execution_count": 48,
     "metadata": {},
     "output_type": "execute_result"
    }
   ],
   "source": [
    "circ5.reset(qreg_q[0])\n",
    "circ5.reset(qreg_q[1])\n",
    "circ5.reset(qreg_q[2])"
   ]
  },
  {
   "cell_type": "markdown",
   "id": "73bf8ac0",
   "metadata": {},
   "source": [
    "#### First, we need to apply **Ry Rotation operator Gate** with **Angle of Rotation = 2*arccos(1/3^0.5) or 1.9106332362490184** on the 1st Qubit"
   ]
  },
  {
   "cell_type": "code",
   "execution_count": 49,
   "id": "170b55ae",
   "metadata": {},
   "outputs": [
    {
     "data": {
      "text/plain": [
       "<qiskit.circuit.instructionset.InstructionSet at 0x7f799b71c340>"
      ]
     },
     "execution_count": 49,
     "metadata": {},
     "output_type": "execute_result"
    }
   ],
   "source": [
    "circ5.ry(1.9106332362490184, qreg_q[0])"
   ]
  },
  {
   "cell_type": "code",
   "execution_count": 50,
   "id": "e2ee0527",
   "metadata": {},
   "outputs": [
    {
     "data": {
      "text/latex": [
       "$$\n",
       "\n",
       "\\begin{bmatrix}\n",
       "\\tfrac{1}{\\sqrt{3}} & \\sqrt{\\tfrac{2}{3}} & 0 & 0 & 0 & 0 & 0 & 0  \\\\\n",
       " \\end{bmatrix}\n",
       "$$"
      ],
      "text/plain": [
       "<IPython.core.display.Latex object>"
      ]
     },
     "execution_count": 50,
     "metadata": {},
     "output_type": "execute_result"
    }
   ],
   "source": [
    "state = Statevector.from_int(0, 2**3)\n",
    "state = state.evolve(circ5)\n",
    "\n",
    "state.draw('latex')"
   ]
  },
  {
   "cell_type": "markdown",
   "id": "6e583865",
   "metadata": {},
   "source": [
    "#### Now, we can apply Controlled Hadamard Gate on 1st and 2nd Qubits, or in Qiskit circuit we can use Controlled U-Gate with phase pi/2 on 1st and 2nd Qubits."
   ]
  },
  {
   "cell_type": "code",
   "execution_count": 51,
   "id": "abccef6e",
   "metadata": {},
   "outputs": [
    {
     "data": {
      "text/plain": [
       "<qiskit.circuit.instructionset.InstructionSet at 0x7f799b71f370>"
      ]
     },
     "execution_count": 51,
     "metadata": {},
     "output_type": "execute_result"
    }
   ],
   "source": [
    "circ5.cu(pi/2, pi/2, pi/2, pi/2, qreg_q[0], qreg_q[1])"
   ]
  },
  {
   "cell_type": "code",
   "execution_count": 52,
   "id": "9328014b",
   "metadata": {},
   "outputs": [
    {
     "data": {
      "text/latex": [
       "$$\n",
       "\n",
       "\\begin{bmatrix}\n",
       "\\tfrac{1}{\\sqrt{3}} & \\tfrac{1}{\\sqrt{3}}i & 0 & -\\tfrac{1}{\\sqrt{3}} & 0 & 0 & 0 & 0  \\\\\n",
       " \\end{bmatrix}\n",
       "$$"
      ],
      "text/plain": [
       "<IPython.core.display.Latex object>"
      ]
     },
     "execution_count": 52,
     "metadata": {},
     "output_type": "execute_result"
    }
   ],
   "source": [
    "state = Statevector.from_int(0, 2**3)\n",
    "state = state.evolve(circ5)\n",
    "\n",
    "state.draw('latex')"
   ]
  },
  {
   "cell_type": "markdown",
   "id": "5e54e939",
   "metadata": {},
   "source": [
    "#### Now, we apply C-Not Gate on 2nd Qubit, with 3rd Qubit as Control qubit."
   ]
  },
  {
   "cell_type": "code",
   "execution_count": 53,
   "id": "54e3d693",
   "metadata": {},
   "outputs": [
    {
     "data": {
      "text/plain": [
       "<qiskit.circuit.instructionset.InstructionSet at 0x7f799b71f550>"
      ]
     },
     "execution_count": 53,
     "metadata": {},
     "output_type": "execute_result"
    }
   ],
   "source": [
    "circ5.cx(qreg_q[1], qreg_q[2])"
   ]
  },
  {
   "cell_type": "markdown",
   "id": "6871b643",
   "metadata": {},
   "source": [
    "#### Now, we apply C-Not Gate on 1st Qubit, with 2nd Qubit as Control qubit."
   ]
  },
  {
   "cell_type": "code",
   "execution_count": 54,
   "id": "e95ec09b",
   "metadata": {},
   "outputs": [
    {
     "data": {
      "text/latex": [
       "$$\n",
       "\n",
       "\\begin{bmatrix}\n",
       "\\tfrac{1}{\\sqrt{3}} & \\tfrac{1}{\\sqrt{3}}i & 0 & 0 & 0 & 0 & 0 & -\\tfrac{1}{\\sqrt{3}}  \\\\\n",
       " \\end{bmatrix}\n",
       "$$"
      ],
      "text/plain": [
       "<IPython.core.display.Latex object>"
      ]
     },
     "execution_count": 54,
     "metadata": {},
     "output_type": "execute_result"
    }
   ],
   "source": [
    "state = Statevector.from_int(0, 2**3)\n",
    "state = state.evolve(circ5)\n",
    "\n",
    "state.draw('latex')"
   ]
  },
  {
   "cell_type": "code",
   "execution_count": 55,
   "id": "e740b2fd",
   "metadata": {},
   "outputs": [
    {
     "data": {
      "text/plain": [
       "<qiskit.circuit.instructionset.InstructionSet at 0x7f799b7987c0>"
      ]
     },
     "execution_count": 55,
     "metadata": {},
     "output_type": "execute_result"
    }
   ],
   "source": [
    "circ5.cx(qreg_q[0], qreg_q[1])"
   ]
  },
  {
   "cell_type": "code",
   "execution_count": 56,
   "id": "300a5de2",
   "metadata": {},
   "outputs": [
    {
     "data": {
      "text/latex": [
       "$$\n",
       "\n",
       "\\begin{bmatrix}\n",
       "\\tfrac{1}{\\sqrt{3}} & 0 & 0 & \\tfrac{1}{\\sqrt{3}}i & 0 & -\\tfrac{1}{\\sqrt{3}} & 0 & 0  \\\\\n",
       " \\end{bmatrix}\n",
       "$$"
      ],
      "text/plain": [
       "<IPython.core.display.Latex object>"
      ]
     },
     "execution_count": 56,
     "metadata": {},
     "output_type": "execute_result"
    }
   ],
   "source": [
    "state = Statevector.from_int(0, 2**3)\n",
    "state = state.evolve(circ5)\n",
    "\n",
    "state.draw('latex')"
   ]
  },
  {
   "cell_type": "markdown",
   "id": "fde26ac5",
   "metadata": {},
   "source": [
    "#### At last, applying X-gate to 1st Qubit."
   ]
  },
  {
   "cell_type": "code",
   "execution_count": 57,
   "id": "26762f76",
   "metadata": {},
   "outputs": [
    {
     "data": {
      "text/plain": [
       "<qiskit.circuit.instructionset.InstructionSet at 0x7f799b7359a0>"
      ]
     },
     "execution_count": 57,
     "metadata": {},
     "output_type": "execute_result"
    }
   ],
   "source": [
    "circ5.x(qreg_q[0])"
   ]
  },
  {
   "cell_type": "markdown",
   "id": "9f6ea81b",
   "metadata": {},
   "source": [
    "#### Circuit will look like below."
   ]
  },
  {
   "cell_type": "code",
   "execution_count": 58,
   "id": "baef9522",
   "metadata": {},
   "outputs": [
    {
     "data": {
      "image/png": "[encoded data removed]",
      "text/plain": [
       "<Figure size 507.997x264.88 with 1 Axes>"
      ]
     },
     "execution_count": 58,
     "metadata": {},
     "output_type": "execute_result"
    }
   ],
   "source": [
    "circ5.draw()"
   ]
  },
  {
   "cell_type": "markdown",
   "id": "ef2ddcd2",
   "metadata": {},
   "source": [
    "#### Getting the State of the Qubits."
   ]
  },
  {
   "cell_type": "code",
   "execution_count": 59,
   "id": "a9e8b922",
   "metadata": {},
   "outputs": [
    {
     "data": {
      "text/latex": [
       "$$\n",
       "\n",
       "\\begin{bmatrix}\n",
       "0 & \\tfrac{1}{\\sqrt{3}} & \\tfrac{1}{\\sqrt{3}}i & 0 & -\\tfrac{1}{\\sqrt{3}} & 0 & 0 & 0  \\\\\n",
       " \\end{bmatrix}\n",
       "$$"
      ],
      "text/plain": [
       "<IPython.core.display.Latex object>"
      ]
     },
     "execution_count": 59,
     "metadata": {},
     "output_type": "execute_result"
    }
   ],
   "source": [
    "state = Statevector.from_int(0, 2**3)\n",
    "state = state.evolve(circ5)\n",
    "\n",
    "state.draw('latex')"
   ]
  },
  {
   "cell_type": "markdown",
   "id": "05c39efc",
   "metadata": {},
   "source": [
    "#### Measuring all the Qubits."
   ]
  },
  {
   "cell_type": "code",
   "execution_count": 60,
   "id": "339a65eb",
   "metadata": {},
   "outputs": [
    {
     "data": {
      "text/plain": [
       "<qiskit.circuit.instructionset.InstructionSet at 0x7f799b735c10>"
      ]
     },
     "execution_count": 60,
     "metadata": {},
     "output_type": "execute_result"
    }
   ],
   "source": [
    "circ5.measure(qreg_q[0], creg_c[0])\n",
    "circ5.measure(qreg_q[1], creg_c[1])\n",
    "circ5.measure(qreg_q[2], creg_c[2])"
   ]
  },
  {
   "cell_type": "code",
   "execution_count": 61,
   "id": "bcb155c0",
   "metadata": {},
   "outputs": [
    {
     "data": {
      "image/png": "[encoded data removed]",
      "text/plain": [
       "<Figure size 568.197x264.88 with 1 Axes>"
      ]
     },
     "execution_count": 61,
     "metadata": {},
     "output_type": "execute_result"
    }
   ],
   "source": [
    "circ5.draw()"
   ]
  },
  {
   "cell_type": "markdown",
   "id": "299970cd",
   "metadata": {},
   "source": [
    "#### Now, we run simulations of the circuit with 1024 iterations."
   ]
  },
  {
   "cell_type": "code",
   "execution_count": 62,
   "id": "096f77b8",
   "metadata": {},
   "outputs": [
    {
     "data": {
      "text/plain": [
       "{'010': 328, '100': 352, '001': 344}"
      ]
     },
     "execution_count": 62,
     "metadata": {},
     "output_type": "execute_result"
    }
   ],
   "source": [
    "job = execute(circ5, backend, shots=1024)\n",
    "job.result().get_counts(circ5)"
   ]
  },
  {
   "cell_type": "markdown",
   "id": "5ddc8dcd",
   "metadata": {},
   "source": [
    "#### After running on **Actual IBM computers**, we get output:\n",
    "\n",
    "#### '000' : 37\n",
    "#### '001' : 345\n",
    "#### '010' : 278\n",
    "#### '011' : 3\n",
    "#### '100' : 306\n",
    "#### '101' : 7\n",
    "#### '110' : 13\n",
    "#### '111' : 35\n",
    "\n",
    "#### There are 95 outputs other than |001>, |010> or |100>, which gives approx error of 9.27%."
   ]
  }
 ],
 "metadata": {
  "kernelspec": {
   "display_name": "Python 3",
   "language": "python",
   "name": "python3"
  },
  "language_info": {
   "codemirror_mode": {
    "name": "ipython",
    "version": 3
   },
   "file_extension": ".py",
   "mimetype": "text/x-python",
   "name": "python",
   "nbconvert_exporter": "python",
   "pygments_lexer": "ipython3",
   "version": "3.8.8"
  }
 },
 "nbformat": 4,
 "nbformat_minor": 5
}
